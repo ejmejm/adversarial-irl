{
 "cells": [
  {
   "cell_type": "code",
   "execution_count": 24,
   "id": "6a54768c",
   "metadata": {},
   "outputs": [],
   "source": [
    "import gym\n",
    "import matplotlib.pyplot as plt\n",
    "import numpy as np\n",
    "import seaborn as sns\n",
    "import torch\n",
    "from tqdm.notebook import tqdm\n",
    "\n",
    "from models import FCActorCriticNetwork, FCReturnModel\n",
    "from trainers import PPOTrainer, AIRLTrainer\n",
    "from training import train_with_ppo\n",
    "from utils import rollout, TrajectoryData\n",
    "\n",
    "sns.set()\n",
    "\n",
    "%matplotlib inline"
   ]
  },
  {
   "cell_type": "code",
   "execution_count": 2,
   "id": "3b065bc0",
   "metadata": {},
   "outputs": [],
   "source": [
    "DEVICE = 'cuda'\n",
    "env = gym.make('CartPole-v0')"
   ]
  },
  {
   "cell_type": "markdown",
   "id": "a4d2d1d9",
   "metadata": {},
   "source": [
    "## Expert Model Training"
   ]
  },
  {
   "cell_type": "code",
   "execution_count": 3,
   "id": "b7593b1b",
   "metadata": {},
   "outputs": [
    {
     "name": "stdout",
     "output_type": "stream",
     "text": [
      "Episode 20 | Avg Reward 19.6\n",
      "Episode 40 | Avg Reward 12.7\n",
      "Episode 60 | Avg Reward 49.4\n",
      "Episode 80 | Avg Reward 141.3\n",
      "Episode 100 | Avg Reward 146.2\n",
      "Episode 120 | Avg Reward 156.4\n",
      "Episode 140 | Avg Reward 171.5\n",
      "Episode 160 | Avg Reward 198.8\n",
      "Episode 180 | Avg Reward 200.0\n",
      "Episode 200 | Avg Reward 174.2\n"
     ]
    }
   ],
   "source": [
    "expert_model = FCActorCriticNetwork(env.observation_space.shape[0], env.action_space.n)\n",
    "expert_model = expert_model.to(DEVICE)\n",
    "\n",
    "# Define training params\n",
    "expert_params = {\n",
    "  'n_episodes': 200,\n",
    "  'print_freq': 20\n",
    "}\n",
    "\n",
    "expert_trainer = PPOTrainer(\n",
    "    expert_model,\n",
    "    policy_lr = 3e-4,\n",
    "    value_lr = 1e-3,\n",
    "    target_kl_div = 0.02,\n",
    "    max_policy_train_iters = 40,\n",
    "    value_train_iters = 40)\n",
    "\n",
    "rewards = train_with_ppo(expert_model, expert_trainer, env, expert_params)"
   ]
  },
  {
   "cell_type": "markdown",
   "id": "fc42ffb0",
   "metadata": {},
   "source": [
    "## Data Gathering"
   ]
  },
  {
   "cell_type": "code",
   "execution_count": 4,
   "id": "1a824967",
   "metadata": {},
   "outputs": [
    {
     "name": "stdout",
     "output_type": "stream",
     "text": [
      "Generating expert samples...\n"
     ]
    },
    {
     "data": {
      "application/vnd.jupyter.widget-view+json": {
       "model_id": "422773c0ce8f4e28b0a7becb7a7640d7",
       "version_major": 2,
       "version_minor": 0
      },
      "text/plain": [
       "  0%|          | 0/50 [00:00<?, ?it/s]"
      ]
     },
     "metadata": {},
     "output_type": "display_data"
    },
    {
     "name": "stdout",
     "output_type": "stream",
     "text": [
      "Avg reward: 136.64\n",
      "Reward std: 25.31304801875902\n"
     ]
    }
   ],
   "source": [
    "n_expert_samples = 50\n",
    "expert_rollouts = []\n",
    "print('Generating expert samples...')\n",
    "for _ in tqdm(range(n_expert_samples)):\n",
    "  expert_rollouts.append(rollout(expert_model, env, 200)[0])\n",
    "  \n",
    "ep_rewards = [sum(r.rewards) for r in expert_rollouts]\n",
    "avg_reward = np.mean(ep_rewards)\n",
    "reward_std = np.std(ep_rewards)\n",
    "  \n",
    "print('Avg reward:', avg_reward)\n",
    "print('Reward std:', reward_std)"
   ]
  },
  {
   "cell_type": "markdown",
   "id": "d7af9691",
   "metadata": {},
   "source": [
    "## AIRL Training"
   ]
  },
  {
   "cell_type": "code",
   "execution_count": 5,
   "id": "b319246f",
   "metadata": {},
   "outputs": [],
   "source": [
    "def reward_modifier_hook(rollout_data, return_model, device, reward_list=None):\n",
    "  obs = torch.tensor(\n",
    "    rollout_data.obs[:-1],\n",
    "    dtype=torch.float32, device=device)\n",
    "  next_obs = torch.tensor(\n",
    "    rollout_data.obs[1:],\n",
    "    dtype=torch.float32, device=device)\n",
    "  act_probs = torch.tensor(\n",
    "    np.exp(rollout_data.act_log_probs),\n",
    "    dtype=torch.float32, device=device).view(-1, 1)\n",
    "  \n",
    "  rewards = return_model.discrim(obs, next_obs, act_probs)\n",
    "  rewards = rewards.squeeze().detach().cpu().numpy()\n",
    "  \n",
    "  if reward_list is not None:\n",
    "    reward_list.append(sum(rewards))\n",
    "  \n",
    "  new_rollout_data = TrajectoryData(\n",
    "    rollout_data[0],\n",
    "    rollout_data[1],\n",
    "    rewards,\n",
    "    rollout_data[3],\n",
    "    rollout_data[4])\n",
    "  \n",
    "  return new_rollout_data"
   ]
  },
  {
   "cell_type": "code",
   "execution_count": 6,
   "id": "ad845d1c",
   "metadata": {},
   "outputs": [],
   "source": [
    "def format_discrim_train_data(expert_rollouts, learner_rollouts, device):\n",
    "  discrim_train_data = [[], [], [], []]\n",
    "  for rollout_data in (expert_rollouts + learner_rollouts):\n",
    "    discrim_train_data[0].extend(rollout_data.obs[:-1])\n",
    "    discrim_train_data[1].extend(rollout_data.obs[1:])\n",
    "    discrim_train_data[2].extend(np.exp(rollout_data.act_log_probs))\n",
    "    \n",
    "  for rollout_data in expert_rollouts:\n",
    "    discrim_train_data[3].extend(np.ones(len(rollout_data.obs) - 1))\n",
    "    \n",
    "  for rollout_data in learner_rollouts:\n",
    "    discrim_train_data[3].extend(np.zeros(len(rollout_data.obs) - 1))\n",
    "    \n",
    "  discrim_train_data = [torch.tensor(x, dtype=torch.float32, device=device) \\\n",
    "                        for x in discrim_train_data]\n",
    "  discrim_train_data[2] = discrim_train_data[2].view(-1, 1)\n",
    "  discrim_train_data[3] = discrim_train_data[3].view(-1, 1)\n",
    "  \n",
    "  return discrim_train_data"
   ]
  },
  {
   "cell_type": "code",
   "execution_count": 39,
   "id": "ab773f95",
   "metadata": {},
   "outputs": [],
   "source": [
    "learner_model = FCActorCriticNetwork(env.observation_space.shape[0], env.action_space.n)\n",
    "learner_model = learner_model.to(DEVICE)\n",
    "learner_trainer = PPOTrainer(\n",
    "    learner_model,\n",
    "    policy_lr = 3e-4,\n",
    "    value_lr = 1e-3,\n",
    "    target_kl_div = 0.02,\n",
    "    max_policy_train_iters = 40,\n",
    "    value_train_iters = 40)\n",
    "# Define training params\n",
    "learner_params = {\n",
    "  'n_episodes': 5\n",
    "}\n",
    "\n",
    "return_model = FCReturnModel(env.observation_space.shape[0])\n",
    "return_model = return_model.to(DEVICE)\n",
    "airl_trainer = AIRLTrainer(\n",
    "  return_model,\n",
    "  reward_lr=1e-4,\n",
    "  discrim_lr=1e-4)"
   ]
  },
  {
   "cell_type": "code",
   "execution_count": 40,
   "id": "cbb7c5a7",
   "metadata": {},
   "outputs": [],
   "source": [
    "n_epochs = 1000\n",
    "rollouts_per_epoch = 5\n",
    "print_freq = 10"
   ]
  },
  {
   "cell_type": "code",
   "execution_count": 41,
   "id": "e16a02ea",
   "metadata": {},
   "outputs": [
    {
     "name": "stdout",
     "output_type": "stream",
     "text": [
      "Epoch #10 | Discrim losses: 0.61 | Real rewards: 78.70 | IRL rewards: 46.40\n",
      "Epoch #20 | Discrim losses: 0.70 | Real rewards: 106.20 | IRL rewards: 58.86\n",
      "Epoch #30 | Discrim losses: 0.66 | Real rewards: 112.50 | IRL rewards: 62.38\n",
      "Epoch #40 | Discrim losses: 0.67 | Real rewards: 200.00 | IRL rewards: 103.82\n",
      "Epoch #50 | Discrim losses: 0.65 | Real rewards: 200.00 | IRL rewards: 99.97\n",
      "Epoch #60 | Discrim losses: 0.63 | Real rewards: 200.00 | IRL rewards: 97.79\n",
      "Epoch #70 | Discrim losses: 0.62 | Real rewards: 200.00 | IRL rewards: 96.13\n",
      "Epoch #80 | Discrim losses: 0.61 | Real rewards: 200.00 | IRL rewards: 94.58\n",
      "Epoch #90 | Discrim losses: 0.61 | Real rewards: 200.00 | IRL rewards: 92.71\n",
      "Epoch #100 | Discrim losses: 0.60 | Real rewards: 199.50 | IRL rewards: 90.33\n",
      "Epoch #110 | Discrim losses: 0.60 | Real rewards: 200.00 | IRL rewards: 91.09\n",
      "Epoch #120 | Discrim losses: 0.61 | Real rewards: 200.00 | IRL rewards: 89.80\n",
      "Epoch #130 | Discrim losses: 0.60 | Real rewards: 196.10 | IRL rewards: 85.74\n",
      "Epoch #140 | Discrim losses: 0.59 | Real rewards: 200.00 | IRL rewards: 86.20\n",
      "Epoch #150 | Discrim losses: 0.59 | Real rewards: 200.00 | IRL rewards: 85.60\n",
      "Epoch #160 | Discrim losses: 0.59 | Real rewards: 200.00 | IRL rewards: 85.57\n",
      "Epoch #170 | Discrim losses: 0.60 | Real rewards: 200.00 | IRL rewards: 85.63\n",
      "Epoch #180 | Discrim losses: 0.60 | Real rewards: 200.00 | IRL rewards: 84.89\n",
      "Epoch #190 | Discrim losses: 0.60 | Real rewards: 200.00 | IRL rewards: 84.04\n",
      "Epoch #200 | Discrim losses: 0.59 | Real rewards: 200.00 | IRL rewards: 83.73\n",
      "Epoch #210 | Discrim losses: 0.60 | Real rewards: 200.00 | IRL rewards: 85.01\n",
      "Epoch #220 | Discrim losses: 0.61 | Real rewards: 200.00 | IRL rewards: 85.47\n",
      "Epoch #230 | Discrim losses: 0.61 | Real rewards: 200.00 | IRL rewards: 86.18\n",
      "Epoch #240 | Discrim losses: 0.61 | Real rewards: 200.00 | IRL rewards: 86.07\n",
      "Epoch #250 | Discrim losses: 0.61 | Real rewards: 200.00 | IRL rewards: 87.29\n",
      "Epoch #260 | Discrim losses: 0.61 | Real rewards: 200.00 | IRL rewards: 85.85\n",
      "Epoch #270 | Discrim losses: 0.60 | Real rewards: 200.00 | IRL rewards: 85.20\n",
      "Epoch #280 | Discrim losses: 0.59 | Real rewards: 200.00 | IRL rewards: 83.59\n",
      "Epoch #290 | Discrim losses: 0.58 | Real rewards: 200.00 | IRL rewards: 81.30\n",
      "Epoch #300 | Discrim losses: 0.56 | Real rewards: 200.00 | IRL rewards: 80.23\n",
      "Epoch #310 | Discrim losses: 0.55 | Real rewards: 200.00 | IRL rewards: 78.87\n",
      "Epoch #320 | Discrim losses: 0.52 | Real rewards: 200.00 | IRL rewards: 76.37\n",
      "Epoch #330 | Discrim losses: 0.50 | Real rewards: 200.00 | IRL rewards: 73.46\n",
      "Epoch #340 | Discrim losses: 0.48 | Real rewards: 200.00 | IRL rewards: 69.95\n",
      "Epoch #350 | Discrim losses: 0.45 | Real rewards: 200.00 | IRL rewards: 66.66\n",
      "Epoch #360 | Discrim losses: 0.42 | Real rewards: 200.00 | IRL rewards: 61.55\n",
      "Epoch #370 | Discrim losses: 0.39 | Real rewards: 200.00 | IRL rewards: 57.52\n",
      "Epoch #380 | Discrim losses: 0.36 | Real rewards: 200.00 | IRL rewards: 49.47\n",
      "Epoch #390 | Discrim losses: 0.31 | Real rewards: 156.10 | IRL rewards: 32.40\n",
      "Epoch #400 | Discrim losses: 0.29 | Real rewards: 113.60 | IRL rewards: 22.62\n",
      "Epoch #410 | Discrim losses: 0.30 | Real rewards: 114.20 | IRL rewards: 22.02\n",
      "Epoch #420 | Discrim losses: 0.28 | Real rewards: 58.50 | IRL rewards: 17.49\n",
      "Epoch #430 | Discrim losses: 0.32 | Real rewards: 30.30 | IRL rewards: 13.26\n",
      "Epoch #440 | Discrim losses: 0.31 | Real rewards: 9.30 | IRL rewards: 7.38\n",
      "Epoch #450 | Discrim losses: 0.27 | Real rewards: 9.00 | IRL rewards: 7.26\n",
      "Epoch #460 | Discrim losses: 0.56 | Real rewards: 200.00 | IRL rewards: 133.67\n",
      "Epoch #470 | Discrim losses: 0.57 | Real rewards: 9.90 | IRL rewards: 7.02\n",
      "Epoch #480 | Discrim losses: 0.28 | Real rewards: 9.20 | IRL rewards: 5.89\n",
      "Epoch #490 | Discrim losses: 0.28 | Real rewards: 9.30 | IRL rewards: 6.00\n",
      "Epoch #500 | Discrim losses: 0.25 | Real rewards: 9.80 | IRL rewards: 6.31\n",
      "Epoch #510 | Discrim losses: 0.24 | Real rewards: 10.70 | IRL rewards: 7.07\n",
      "Epoch #520 | Discrim losses: 0.64 | Real rewards: 82.30 | IRL rewards: 73.48\n",
      "Epoch #530 | Discrim losses: 0.88 | Real rewards: 199.80 | IRL rewards: 128.47\n",
      "Epoch #540 | Discrim losses: 0.60 | Real rewards: 200.00 | IRL rewards: 98.05\n",
      "Epoch #550 | Discrim losses: 0.46 | Real rewards: 200.00 | IRL rewards: 77.50\n",
      "Epoch #560 | Discrim losses: 0.43 | Real rewards: 194.60 | IRL rewards: 81.81\n",
      "Epoch #570 | Discrim losses: 0.51 | Real rewards: 200.00 | IRL rewards: 82.06\n",
      "Epoch #580 | Discrim losses: 0.51 | Real rewards: 200.00 | IRL rewards: 69.63\n",
      "Epoch #590 | Discrim losses: 0.48 | Real rewards: 200.00 | IRL rewards: 56.85\n",
      "Epoch #600 | Discrim losses: 0.50 | Real rewards: 200.00 | IRL rewards: 63.51\n",
      "Epoch #610 | Discrim losses: 0.44 | Real rewards: 200.00 | IRL rewards: 51.73\n",
      "Epoch #620 | Discrim losses: 0.43 | Real rewards: 200.00 | IRL rewards: 54.37\n",
      "Epoch #630 | Discrim losses: 0.46 | Real rewards: 200.00 | IRL rewards: 60.03\n",
      "Epoch #640 | Discrim losses: 0.46 | Real rewards: 200.00 | IRL rewards: 57.66\n",
      "Epoch #650 | Discrim losses: 0.54 | Real rewards: 51.40 | IRL rewards: 25.99\n",
      "Epoch #660 | Discrim losses: 0.94 | Real rewards: 140.00 | IRL rewards: 103.64\n",
      "Epoch #670 | Discrim losses: 1.02 | Real rewards: 142.10 | IRL rewards: 91.84\n",
      "Epoch #680 | Discrim losses: 0.81 | Real rewards: 192.00 | IRL rewards: 66.90\n",
      "Epoch #690 | Discrim losses: 0.49 | Real rewards: 200.00 | IRL rewards: 42.68\n",
      "Epoch #700 | Discrim losses: 0.45 | Real rewards: 200.00 | IRL rewards: 43.28\n",
      "Epoch #710 | Discrim losses: 0.43 | Real rewards: 200.00 | IRL rewards: 45.96\n",
      "Epoch #720 | Discrim losses: 0.43 | Real rewards: 187.80 | IRL rewards: 36.45\n",
      "Epoch #730 | Discrim losses: 0.37 | Real rewards: 200.00 | IRL rewards: 43.80\n",
      "Epoch #740 | Discrim losses: 0.32 | Real rewards: 180.70 | IRL rewards: 29.70\n",
      "Epoch #750 | Discrim losses: 0.34 | Real rewards: 162.10 | IRL rewards: 43.14\n",
      "Epoch #760 | Discrim losses: 0.35 | Real rewards: 71.70 | IRL rewards: 14.87\n",
      "Epoch #770 | Discrim losses: 0.36 | Real rewards: 200.00 | IRL rewards: 71.68\n",
      "Epoch #780 | Discrim losses: 0.39 | Real rewards: 200.00 | IRL rewards: 66.47\n",
      "Epoch #790 | Discrim losses: 0.38 | Real rewards: 200.00 | IRL rewards: 63.33\n",
      "Epoch #800 | Discrim losses: 0.34 | Real rewards: 139.80 | IRL rewards: 20.45\n",
      "Epoch #810 | Discrim losses: 0.26 | Real rewards: 165.40 | IRL rewards: 23.07\n",
      "Epoch #820 | Discrim losses: 0.27 | Real rewards: 59.10 | IRL rewards: 11.32\n",
      "Epoch #830 | Discrim losses: 0.36 | Real rewards: 9.30 | IRL rewards: 4.09\n",
      "Epoch #840 | Discrim losses: 0.30 | Real rewards: 9.00 | IRL rewards: 4.18\n",
      "Epoch #850 | Discrim losses: 0.28 | Real rewards: 10.20 | IRL rewards: 5.30\n",
      "Epoch #860 | Discrim losses: 0.22 | Real rewards: 9.10 | IRL rewards: 4.90\n",
      "Epoch #870 | Discrim losses: 0.22 | Real rewards: 9.30 | IRL rewards: 5.08\n",
      "Epoch #880 | Discrim losses: 0.20 | Real rewards: 9.60 | IRL rewards: 5.21\n",
      "Epoch #890 | Discrim losses: 0.31 | Real rewards: 48.60 | IRL rewards: 19.95\n",
      "Epoch #900 | Discrim losses: 0.24 | Real rewards: 70.20 | IRL rewards: 31.90\n",
      "Epoch #910 | Discrim losses: 0.38 | Real rewards: 52.50 | IRL rewards: 23.25\n",
      "Epoch #920 | Discrim losses: 0.34 | Real rewards: 66.30 | IRL rewards: 27.38\n",
      "Epoch #930 | Discrim losses: 0.24 | Real rewards: 63.20 | IRL rewards: 23.74\n",
      "Epoch #940 | Discrim losses: 0.35 | Real rewards: 167.00 | IRL rewards: 71.01\n",
      "Epoch #950 | Discrim losses: 0.38 | Real rewards: 189.40 | IRL rewards: 87.81\n"
     ]
    },
    {
     "ename": "KeyboardInterrupt",
     "evalue": "",
     "output_type": "error",
     "traceback": [
      "\u001b[1;31m---------------------------------------------------------------------------\u001b[0m",
      "\u001b[1;31mKeyboardInterrupt\u001b[0m                         Traceback (most recent call last)",
      "\u001b[1;32m<ipython-input-41-95e820e936dd>\u001b[0m in \u001b[0;36m<module>\u001b[1;34m\u001b[0m\n\u001b[0;32m     14\u001b[0m \u001b[1;33m\u001b[0m\u001b[0m\n\u001b[0;32m     15\u001b[0m   \u001b[0mdata_hook\u001b[0m \u001b[1;33m=\u001b[0m \u001b[1;32mlambda\u001b[0m \u001b[0mdata\u001b[0m\u001b[1;33m:\u001b[0m \u001b[0mreward_modifier_hook\u001b[0m\u001b[1;33m(\u001b[0m\u001b[0mdata\u001b[0m\u001b[1;33m,\u001b[0m \u001b[0mreturn_model\u001b[0m\u001b[1;33m,\u001b[0m \u001b[0mDEVICE\u001b[0m\u001b[1;33m,\u001b[0m \u001b[0menv_irl_rewards\u001b[0m\u001b[1;33m)\u001b[0m\u001b[1;33m\u001b[0m\u001b[1;33m\u001b[0m\u001b[0m\n\u001b[1;32m---> 16\u001b[1;33m   \u001b[0mreal_rewards\u001b[0m \u001b[1;33m=\u001b[0m \u001b[0mtrain_with_ppo\u001b[0m\u001b[1;33m(\u001b[0m\u001b[0mlearner_model\u001b[0m\u001b[1;33m,\u001b[0m \u001b[0mlearner_trainer\u001b[0m\u001b[1;33m,\u001b[0m \u001b[0menv\u001b[0m\u001b[1;33m,\u001b[0m \u001b[0mlearner_params\u001b[0m\u001b[1;33m,\u001b[0m \u001b[0mdata_hook\u001b[0m\u001b[1;33m)\u001b[0m\u001b[1;33m\u001b[0m\u001b[1;33m\u001b[0m\u001b[0m\n\u001b[0m\u001b[0;32m     17\u001b[0m   \u001b[0menv_real_rewards\u001b[0m\u001b[1;33m.\u001b[0m\u001b[0mextend\u001b[0m\u001b[1;33m(\u001b[0m\u001b[0mreal_rewards\u001b[0m\u001b[1;33m)\u001b[0m\u001b[1;33m\u001b[0m\u001b[1;33m\u001b[0m\u001b[0m\n\u001b[0;32m     18\u001b[0m \u001b[1;33m\u001b[0m\u001b[0m\n",
      "\u001b[1;32m~\\Documents\\projects\\airl\\training.py\u001b[0m in \u001b[0;36mtrain_with_ppo\u001b[1;34m(model, trainer, env, params, data_modifier_hook)\u001b[0m\n\u001b[0;32m     32\u001b[0m     \u001b[1;31m# Train model\u001b[0m\u001b[1;33m\u001b[0m\u001b[1;33m\u001b[0m\u001b[1;33m\u001b[0m\u001b[0m\n\u001b[0;32m     33\u001b[0m     \u001b[0mtrainer\u001b[0m\u001b[1;33m.\u001b[0m\u001b[0mtrain_policy\u001b[0m\u001b[1;33m(\u001b[0m\u001b[0mobs\u001b[0m\u001b[1;33m,\u001b[0m \u001b[0macts\u001b[0m\u001b[1;33m,\u001b[0m \u001b[0mact_log_probs\u001b[0m\u001b[1;33m,\u001b[0m \u001b[0mgaes\u001b[0m\u001b[1;33m)\u001b[0m\u001b[1;33m\u001b[0m\u001b[1;33m\u001b[0m\u001b[0m\n\u001b[1;32m---> 34\u001b[1;33m     \u001b[0mtrainer\u001b[0m\u001b[1;33m.\u001b[0m\u001b[0mtrain_value\u001b[0m\u001b[1;33m(\u001b[0m\u001b[0mobs\u001b[0m\u001b[1;33m,\u001b[0m \u001b[0mreturns\u001b[0m\u001b[1;33m)\u001b[0m\u001b[1;33m\u001b[0m\u001b[1;33m\u001b[0m\u001b[0m\n\u001b[0m\u001b[0;32m     35\u001b[0m \u001b[1;33m\u001b[0m\u001b[0m\n\u001b[0;32m     36\u001b[0m     \u001b[1;32mif\u001b[0m \u001b[1;34m'print_freq'\u001b[0m \u001b[1;32min\u001b[0m \u001b[0mparams\u001b[0m \u001b[1;32mand\u001b[0m \u001b[1;33m(\u001b[0m\u001b[0mepisode_idx\u001b[0m \u001b[1;33m+\u001b[0m \u001b[1;36m1\u001b[0m\u001b[1;33m)\u001b[0m \u001b[1;33m%\u001b[0m \u001b[0mparams\u001b[0m\u001b[1;33m[\u001b[0m\u001b[1;34m'print_freq'\u001b[0m\u001b[1;33m]\u001b[0m \u001b[1;33m==\u001b[0m \u001b[1;36m0\u001b[0m\u001b[1;33m:\u001b[0m\u001b[1;33m\u001b[0m\u001b[1;33m\u001b[0m\u001b[0m\n",
      "\u001b[1;32m~\\Documents\\projects\\airl\\trainers.py\u001b[0m in \u001b[0;36mtrain_value\u001b[1;34m(self, obs, returns)\u001b[0m\n\u001b[0;32m     59\u001b[0m       \u001b[0mvalue_loss\u001b[0m \u001b[1;33m=\u001b[0m \u001b[0mvalue_loss\u001b[0m\u001b[1;33m.\u001b[0m\u001b[0mmean\u001b[0m\u001b[1;33m(\u001b[0m\u001b[1;33m)\u001b[0m\u001b[1;33m\u001b[0m\u001b[1;33m\u001b[0m\u001b[0m\n\u001b[0;32m     60\u001b[0m \u001b[1;33m\u001b[0m\u001b[0m\n\u001b[1;32m---> 61\u001b[1;33m       \u001b[0mvalue_loss\u001b[0m\u001b[1;33m.\u001b[0m\u001b[0mbackward\u001b[0m\u001b[1;33m(\u001b[0m\u001b[1;33m)\u001b[0m\u001b[1;33m\u001b[0m\u001b[1;33m\u001b[0m\u001b[0m\n\u001b[0m\u001b[0;32m     62\u001b[0m       \u001b[0mself\u001b[0m\u001b[1;33m.\u001b[0m\u001b[0mvalue_optim\u001b[0m\u001b[1;33m.\u001b[0m\u001b[0mstep\u001b[0m\u001b[1;33m(\u001b[0m\u001b[1;33m)\u001b[0m\u001b[1;33m\u001b[0m\u001b[1;33m\u001b[0m\u001b[0m\n\u001b[0;32m     63\u001b[0m \u001b[1;33m\u001b[0m\u001b[0m\n",
      "\u001b[1;32m~\\.conda\\envs\\ml-env\\lib\\site-packages\\torch\\tensor.py\u001b[0m in \u001b[0;36mbackward\u001b[1;34m(self, gradient, retain_graph, create_graph, inputs)\u001b[0m\n\u001b[0;32m    243\u001b[0m                 \u001b[0mcreate_graph\u001b[0m\u001b[1;33m=\u001b[0m\u001b[0mcreate_graph\u001b[0m\u001b[1;33m,\u001b[0m\u001b[1;33m\u001b[0m\u001b[1;33m\u001b[0m\u001b[0m\n\u001b[0;32m    244\u001b[0m                 inputs=inputs)\n\u001b[1;32m--> 245\u001b[1;33m         \u001b[0mtorch\u001b[0m\u001b[1;33m.\u001b[0m\u001b[0mautograd\u001b[0m\u001b[1;33m.\u001b[0m\u001b[0mbackward\u001b[0m\u001b[1;33m(\u001b[0m\u001b[0mself\u001b[0m\u001b[1;33m,\u001b[0m \u001b[0mgradient\u001b[0m\u001b[1;33m,\u001b[0m \u001b[0mretain_graph\u001b[0m\u001b[1;33m,\u001b[0m \u001b[0mcreate_graph\u001b[0m\u001b[1;33m,\u001b[0m \u001b[0minputs\u001b[0m\u001b[1;33m=\u001b[0m\u001b[0minputs\u001b[0m\u001b[1;33m)\u001b[0m\u001b[1;33m\u001b[0m\u001b[1;33m\u001b[0m\u001b[0m\n\u001b[0m\u001b[0;32m    246\u001b[0m \u001b[1;33m\u001b[0m\u001b[0m\n\u001b[0;32m    247\u001b[0m     \u001b[1;32mdef\u001b[0m \u001b[0mregister_hook\u001b[0m\u001b[1;33m(\u001b[0m\u001b[0mself\u001b[0m\u001b[1;33m,\u001b[0m \u001b[0mhook\u001b[0m\u001b[1;33m)\u001b[0m\u001b[1;33m:\u001b[0m\u001b[1;33m\u001b[0m\u001b[1;33m\u001b[0m\u001b[0m\n",
      "\u001b[1;32m~\\.conda\\envs\\ml-env\\lib\\site-packages\\torch\\autograd\\__init__.py\u001b[0m in \u001b[0;36mbackward\u001b[1;34m(tensors, grad_tensors, retain_graph, create_graph, grad_variables, inputs)\u001b[0m\n\u001b[0;32m    143\u001b[0m         \u001b[0mretain_graph\u001b[0m \u001b[1;33m=\u001b[0m \u001b[0mcreate_graph\u001b[0m\u001b[1;33m\u001b[0m\u001b[1;33m\u001b[0m\u001b[0m\n\u001b[0;32m    144\u001b[0m \u001b[1;33m\u001b[0m\u001b[0m\n\u001b[1;32m--> 145\u001b[1;33m     Variable._execution_engine.run_backward(\n\u001b[0m\u001b[0;32m    146\u001b[0m         \u001b[0mtensors\u001b[0m\u001b[1;33m,\u001b[0m \u001b[0mgrad_tensors_\u001b[0m\u001b[1;33m,\u001b[0m \u001b[0mretain_graph\u001b[0m\u001b[1;33m,\u001b[0m \u001b[0mcreate_graph\u001b[0m\u001b[1;33m,\u001b[0m \u001b[0minputs\u001b[0m\u001b[1;33m,\u001b[0m\u001b[1;33m\u001b[0m\u001b[1;33m\u001b[0m\u001b[0m\n\u001b[0;32m    147\u001b[0m         allow_unreachable=True, accumulate_grad=True)  # allow_unreachable flag\n",
      "\u001b[1;31mKeyboardInterrupt\u001b[0m: "
     ]
    }
   ],
   "source": [
    "discrim_losses = []\n",
    "env_real_rewards = []\n",
    "env_irl_rewards = []\n",
    "\n",
    "for epoch in range(n_epochs):\n",
    "  # Simulate learner rollouts\n",
    "  learner_rollouts = [rollout(learner_model, env, 200)[0] for _ in range(rollouts_per_epoch)]\n",
    "  expert_rollout_idxs = np.random.choice(list(range(len(expert_rollouts))), size=rollouts_per_epoch, replace=False)\n",
    "  expert_rollout_samples = [expert_rollouts[i] for i in expert_rollout_idxs]\n",
    "  discrim_train_data = format_discrim_train_data(expert_rollout_samples, learner_rollouts, DEVICE)\n",
    "  \n",
    "  discrim_loss = airl_trainer.train_discrim(*discrim_train_data)\n",
    "  discrim_losses.append(discrim_loss)\n",
    "  \n",
    "  data_hook = lambda data: reward_modifier_hook(data, return_model, DEVICE, env_irl_rewards)\n",
    "  real_rewards = train_with_ppo(learner_model, learner_trainer, env, learner_params, data_hook)\n",
    "  env_real_rewards.extend(real_rewards)\n",
    "  \n",
    "  if epoch != 0 and epoch % print_freq == 0:\n",
    "    print('Epoch #{} | Discrim losses: {:.2f} | Real rewards: {:.2f} | IRL rewards: {:.2f}'.format(\n",
    "      epoch,\n",
    "      np.mean(discrim_losses[-print_freq:]),\n",
    "      np.mean(env_real_rewards[-print_freq:]),\n",
    "      np.mean(env_irl_rewards[-print_freq:])))"
   ]
  },
  {
   "cell_type": "code",
   "execution_count": 42,
   "id": "adc11925",
   "metadata": {},
   "outputs": [
    {
     "name": "stderr",
     "output_type": "stream",
     "text": [
      "C:\\Users\\ninja\\.conda\\envs\\ml-env\\lib\\site-packages\\seaborn\\_decorators.py:36: FutureWarning: Pass the following variables as keyword args: x, y. From version 0.12, the only valid positional argument will be `data`, and passing other arguments without an explicit keyword will result in an error or misinterpretation.\n",
      "  warnings.warn(\n"
     ]
    },
    {
     "data": {
      "text/plain": [
       "<AxesSubplot:>"
      ]
     },
     "execution_count": 42,
     "metadata": {},
     "output_type": "execute_result"
    },
    {
     "data": {
      "image/png": "[encoded data removed]",
      "text/plain": [
       "<Figure size 432x288 with 1 Axes>"
      ]
     },
     "metadata": {},
     "output_type": "display_data"
    }
   ],
   "source": [
    "sns.lineplot(range(len(discrim_losses)), discrim_losses)"
   ]
  },
  {
   "cell_type": "code",
   "execution_count": 43,
   "id": "8236ead2",
   "metadata": {},
   "outputs": [
    {
     "name": "stderr",
     "output_type": "stream",
     "text": [
      "C:\\Users\\ninja\\.conda\\envs\\ml-env\\lib\\site-packages\\seaborn\\_decorators.py:36: FutureWarning: Pass the following variables as keyword args: x, y. From version 0.12, the only valid positional argument will be `data`, and passing other arguments without an explicit keyword will result in an error or misinterpretation.\n",
      "  warnings.warn(\n"
     ]
    },
    {
     "data": {
      "text/plain": [
       "<AxesSubplot:>"
      ]
     },
     "execution_count": 43,
     "metadata": {},
     "output_type": "execute_result"
    },
    {
     "data": {
      "image/png": "[encoded data removed]",
      "text/plain": [
       "<Figure size 432x288 with 1 Axes>"
      ]
     },
     "metadata": {},
     "output_type": "display_data"
    }
   ],
   "source": [
    "sns.lineplot(range(len(env_real_rewards)), env_real_rewards)"
   ]
  },
  {
   "cell_type": "code",
   "execution_count": 44,
   "id": "2100fe08",
   "metadata": {},
   "outputs": [
    {
     "name": "stderr",
     "output_type": "stream",
     "text": [
      "C:\\Users\\ninja\\.conda\\envs\\ml-env\\lib\\site-packages\\seaborn\\_decorators.py:36: FutureWarning: Pass the following variables as keyword args: x, y. From version 0.12, the only valid positional argument will be `data`, and passing other arguments without an explicit keyword will result in an error or misinterpretation.\n",
      "  warnings.warn(\n"
     ]
    },
    {
     "data": {
      "text/plain": [
       "<AxesSubplot:>"
      ]
     },
     "execution_count": 44,
     "metadata": {},
     "output_type": "execute_result"
    },
    {
     "data": {
      "image/png": "[encoded data removed]",
      "text/plain": [
       "<Figure size 432x288 with 1 Axes>"
      ]
     },
     "metadata": {},
     "output_type": "display_data"
    }
   ],
   "source": [
    "sns.lineplot(range(len(env_irl_rewards)), env_irl_rewards)"
   ]
  },
  {
   "cell_type": "code",
   "execution_count": null,
   "id": "6941ba73",
   "metadata": {},
   "outputs": [],
   "source": []
  }
 ],
 "metadata": {
  "kernelspec": {
   "display_name": "Python 3",
   "language": "python",
   "name": "python3"
  },
  "language_info": {
   "codemirror_mode": {
    "name": "ipython",
    "version": 3
   },
   "file_extension": ".py",
   "mimetype": "text/x-python",
   "name": "python",
   "nbconvert_exporter": "python",
   "pygments_lexer": "ipython3",
   "version": "3.9.2"
  }
 },
 "nbformat": 4,
 "nbformat_minor": 5
}
