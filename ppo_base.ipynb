{
 "cells": [
  {
   "cell_type": "code",
   "execution_count": 7,
   "id": "de3ddcab",
   "metadata": {},
   "outputs": [
    {
     "ename": "ImportError",
     "evalue": "cannot import name 'FCReturnModel' from 'models' (C:\\Users\\ninja\\Documents\\projects\\airl\\models.py)",
     "output_type": "error",
     "traceback": [
      "\u001b[1;31m---------------------------------------------------------------------------\u001b[0m",
      "\u001b[1;31mImportError\u001b[0m                               Traceback (most recent call last)",
      "\u001b[1;32m<ipython-input-7-b25b44cefb44>\u001b[0m in \u001b[0;36m<module>\u001b[1;34m\u001b[0m\n\u001b[0;32m      1\u001b[0m \u001b[1;32mimport\u001b[0m \u001b[0mgym\u001b[0m\u001b[1;33m\u001b[0m\u001b[1;33m\u001b[0m\u001b[0m\n\u001b[0;32m      2\u001b[0m \u001b[1;33m\u001b[0m\u001b[0m\n\u001b[1;32m----> 3\u001b[1;33m \u001b[1;32mfrom\u001b[0m \u001b[0mmodels\u001b[0m \u001b[1;32mimport\u001b[0m \u001b[0mFCActorCriticNetwork\u001b[0m\u001b[1;33m,\u001b[0m \u001b[0mFCReturnModel\u001b[0m\u001b[1;33m\u001b[0m\u001b[1;33m\u001b[0m\u001b[0m\n\u001b[0m\u001b[0;32m      4\u001b[0m \u001b[1;32mfrom\u001b[0m \u001b[0mppo\u001b[0m \u001b[1;32mimport\u001b[0m \u001b[0mPPOTrainer\u001b[0m\u001b[1;33m\u001b[0m\u001b[1;33m\u001b[0m\u001b[0m\n\u001b[0;32m      5\u001b[0m \u001b[1;32mfrom\u001b[0m \u001b[0mtraining\u001b[0m \u001b[1;32mimport\u001b[0m \u001b[0mtrain\u001b[0m\u001b[1;33m\u001b[0m\u001b[1;33m\u001b[0m\u001b[0m\n",
      "\u001b[1;31mImportError\u001b[0m: cannot import name 'FCReturnModel' from 'models' (C:\\Users\\ninja\\Documents\\projects\\airl\\models.py)"
     ]
    }
   ],
   "source": [
    "import gym\n",
    "\n",
    "from models import FCActorCriticNetwork, FCReturnModel\n",
    "from trainers import PPOTrainer\n",
    "from training import train"
   ]
  },
  {
   "cell_type": "code",
   "execution_count": 2,
   "id": "0b3b2be3",
   "metadata": {},
   "outputs": [],
   "source": [
    "DEVICE = 'cuda'"
   ]
  },
  {
   "cell_type": "code",
   "execution_count": 3,
   "id": "28fec153",
   "metadata": {},
   "outputs": [],
   "source": [
    "def ppo_training_setup(env):\n",
    "  # Object instantiation\n",
    "  model = FCActorCriticNetwork(env.observation_space.shape[0], env.action_space.n)\n",
    "  model = model.to(DEVICE)\n",
    "\n",
    "  # Define training params\n",
    "  params = {\n",
    "    'n_episodes': 300,\n",
    "    'print_freq': 20\n",
    "  }\n",
    "    \n",
    "  ppo = PPOTrainer(\n",
    "      model,\n",
    "      policy_lr = 3e-4,\n",
    "      value_lr = 1e-3,\n",
    "      target_kl_div = 0.02,\n",
    "      max_policy_train_iters = 40,\n",
    "      value_train_iters = 40)\n",
    "  \n",
    "  return model, ppo, params"
   ]
  },
  {
   "cell_type": "code",
   "execution_count": 6,
   "id": "f2e64d0b",
   "metadata": {},
   "outputs": [
    {
     "name": "stdout",
     "output_type": "stream",
     "text": [
      "Episode 20 | Avg Reward 10.6\n",
      "Episode 40 | Avg Reward 12.9\n",
      "Episode 60 | Avg Reward 15.9\n",
      "Episode 80 | Avg Reward 44.8\n",
      "Episode 100 | Avg Reward 130.5\n",
      "Episode 120 | Avg Reward 108.9\n",
      "Episode 140 | Avg Reward 123.3\n",
      "Episode 160 | Avg Reward 116.1\n",
      "Episode 180 | Avg Reward 120.4\n",
      "Episode 200 | Avg Reward 132.6\n",
      "Episode 220 | Avg Reward 148.7\n",
      "Episode 240 | Avg Reward 188.1\n",
      "Episode 260 | Avg Reward 177.4\n",
      "Episode 280 | Avg Reward 192.9\n",
      "Episode 300 | Avg Reward 195.8\n"
     ]
    }
   ],
   "source": [
    "env = gym.make('CartPole-v0')\n",
    "model, ppo_trainer, params = ppo_training_setup(env)\n",
    "rewards = train(model, ppo_trainer, env, params)"
   ]
  },
  {
   "cell_type": "code",
   "execution_count": null,
   "id": "6e85d19d",
   "metadata": {},
   "outputs": [],
   "source": []
  }
 ],
 "metadata": {
  "kernelspec": {
   "display_name": "Python 3",
   "language": "python",
   "name": "python3"
  },
  "language_info": {
   "codemirror_mode": {
    "name": "ipython",
    "version": 3
   },
   "file_extension": ".py",
   "mimetype": "text/x-python",
   "name": "python",
   "nbconvert_exporter": "python",
   "pygments_lexer": "ipython3",
   "version": "3.9.2"
  }
 },
 "nbformat": 4,
 "nbformat_minor": 5
}
